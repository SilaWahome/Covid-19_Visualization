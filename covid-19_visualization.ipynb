{
 "nbformat": 4,
 "nbformat_minor": 2,
 "metadata": {
  "language_info": {
   "name": "python",
   "codemirror_mode": {
    "name": "ipython",
    "version": 3
   },
   "version": "3.7.4-final"
  },
  "orig_nbformat": 2,
  "file_extension": ".py",
  "mimetype": "text/x-python",
  "name": "python",
  "npconvert_exporter": "python",
  "pygments_lexer": "ipython3",
  "version": 3,
  "kernelspec": {
   "name": "python3",
   "display_name": "Python 3"
  },
  "pycharm": {
   "stem_cell": {
    "cell_type": "raw",
    "source": [],
    "metadata": {
     "collapsed": false
    }
   }
  }
 },
 "cells": [
  {
   "cell_type": "code",
   "execution_count": 1,
   "metadata": {
    "pycharm": {
     "is_executing": false
    }
   },
   "outputs": [],
   "source": [
    "import pandas as pd\n",
    "import matplotlib.pyplot as plt \n",
    "import numpy as np\n",
    "import seaborn as sns\n",
    "\n",
    "sns.set(rc={'figure.figsize':(6,4)})"
   ]
  },
  {
   "cell_type": "code",
   "execution_count": 2,
   "metadata": {
    "pycharm": {
     "is_executing": false
    }
   },
   "outputs": [],
   "source": [
    "confirmed = pd.read_csv(\"https://raw.githubusercontent.com/CSSEGISandData/COVID-19/master/csse_covid_19_data/csse_covid_19_time_series/time_series_19-covid-Confirmed.csv\")\n",
    "deaths = pd.read_csv(\"https://raw.githubusercontent.com/CSSEGISandData/COVID-19/master/csse_covid_19_data/csse_covid_19_time_series/time_series_19-covid-Deaths.csv\")\n",
    "recovered = pd.read_csv(\"https://raw.githubusercontent.com/CSSEGISandData/COVID-19/master/csse_covid_19_data/csse_covid_19_time_series/time_series_19-covid-Recovered.csv\")"
   ]
  },
  {
   "cell_type": "code",
   "execution_count": 3,
   "metadata": {
    "pycharm": {
     "is_executing": false
    }
   },
   "outputs": [
    {
     "data": {
      "text/plain": "  Province/State Country/Region      Lat      Long  1/22/20  1/23/20  1/24/20  \\\n0            NaN       Thailand  15.0000  101.0000        2        3        5   \n1            NaN          Japan  36.0000  138.0000        2        1        2   \n2            NaN      Singapore   1.2833  103.8333        0        1        3   \n3            NaN          Nepal  28.1667   84.2500        0        0        0   \n4            NaN       Malaysia   2.5000  112.5000        0        0        0   \n\n   1/25/20  1/26/20  1/27/20  ...  3/9/20  3/10/20  3/11/20  3/12/20  3/13/20  \\\n0        7        8        8  ...      50       53       59       70       75   \n1        2        4        4  ...     511      581      639      639      701   \n2        3        4        5  ...     150      160      178      178      200   \n3        1        1        1  ...       1        1        1        1        1   \n4        3        4        4  ...     117      129      149      149      197   \n\n   3/14/20  3/15/20  3/16/20  3/17/20  3/18/20  \n0       82      114      147      177      212  \n1      773      839      825      878      889  \n2      212      226      243      266      313  \n3        1        1        1        1        1  \n4      238      428      566      673      790  \n\n[5 rows x 61 columns]",
      "text/html": "<div>\n<style scoped>\n    .dataframe tbody tr th:only-of-type {\n        vertical-align: middle;\n    }\n\n    .dataframe tbody tr th {\n        vertical-align: top;\n    }\n\n    .dataframe thead th {\n        text-align: right;\n    }\n</style>\n<table border=\"1\" class=\"dataframe\">\n  <thead>\n    <tr style=\"text-align: right;\">\n      <th></th>\n      <th>Province/State</th>\n      <th>Country/Region</th>\n      <th>Lat</th>\n      <th>Long</th>\n      <th>1/22/20</th>\n      <th>1/23/20</th>\n      <th>1/24/20</th>\n      <th>1/25/20</th>\n      <th>1/26/20</th>\n      <th>1/27/20</th>\n      <th>...</th>\n      <th>3/9/20</th>\n      <th>3/10/20</th>\n      <th>3/11/20</th>\n      <th>3/12/20</th>\n      <th>3/13/20</th>\n      <th>3/14/20</th>\n      <th>3/15/20</th>\n      <th>3/16/20</th>\n      <th>3/17/20</th>\n      <th>3/18/20</th>\n    </tr>\n  </thead>\n  <tbody>\n    <tr>\n      <th>0</th>\n      <td>NaN</td>\n      <td>Thailand</td>\n      <td>15.0000</td>\n      <td>101.0000</td>\n      <td>2</td>\n      <td>3</td>\n      <td>5</td>\n      <td>7</td>\n      <td>8</td>\n      <td>8</td>\n      <td>...</td>\n      <td>50</td>\n      <td>53</td>\n      <td>59</td>\n      <td>70</td>\n      <td>75</td>\n      <td>82</td>\n      <td>114</td>\n      <td>147</td>\n      <td>177</td>\n      <td>212</td>\n    </tr>\n    <tr>\n      <th>1</th>\n      <td>NaN</td>\n      <td>Japan</td>\n      <td>36.0000</td>\n      <td>138.0000</td>\n      <td>2</td>\n      <td>1</td>\n      <td>2</td>\n      <td>2</td>\n      <td>4</td>\n      <td>4</td>\n      <td>...</td>\n      <td>511</td>\n      <td>581</td>\n      <td>639</td>\n      <td>639</td>\n      <td>701</td>\n      <td>773</td>\n      <td>839</td>\n      <td>825</td>\n      <td>878</td>\n      <td>889</td>\n    </tr>\n    <tr>\n      <th>2</th>\n      <td>NaN</td>\n      <td>Singapore</td>\n      <td>1.2833</td>\n      <td>103.8333</td>\n      <td>0</td>\n      <td>1</td>\n      <td>3</td>\n      <td>3</td>\n      <td>4</td>\n      <td>5</td>\n      <td>...</td>\n      <td>150</td>\n      <td>160</td>\n      <td>178</td>\n      <td>178</td>\n      <td>200</td>\n      <td>212</td>\n      <td>226</td>\n      <td>243</td>\n      <td>266</td>\n      <td>313</td>\n    </tr>\n    <tr>\n      <th>3</th>\n      <td>NaN</td>\n      <td>Nepal</td>\n      <td>28.1667</td>\n      <td>84.2500</td>\n      <td>0</td>\n      <td>0</td>\n      <td>0</td>\n      <td>1</td>\n      <td>1</td>\n      <td>1</td>\n      <td>...</td>\n      <td>1</td>\n      <td>1</td>\n      <td>1</td>\n      <td>1</td>\n      <td>1</td>\n      <td>1</td>\n      <td>1</td>\n      <td>1</td>\n      <td>1</td>\n      <td>1</td>\n    </tr>\n    <tr>\n      <th>4</th>\n      <td>NaN</td>\n      <td>Malaysia</td>\n      <td>2.5000</td>\n      <td>112.5000</td>\n      <td>0</td>\n      <td>0</td>\n      <td>0</td>\n      <td>3</td>\n      <td>4</td>\n      <td>4</td>\n      <td>...</td>\n      <td>117</td>\n      <td>129</td>\n      <td>149</td>\n      <td>149</td>\n      <td>197</td>\n      <td>238</td>\n      <td>428</td>\n      <td>566</td>\n      <td>673</td>\n      <td>790</td>\n    </tr>\n  </tbody>\n</table>\n<p>5 rows × 61 columns</p>\n</div>"
     },
     "metadata": {},
     "output_type": "execute_result",
     "execution_count": 3
    }
   ],
   "source": [
    "confirmed.head()"
   ]
  },
  {
   "cell_type": "code",
   "execution_count": 4,
   "metadata": {
    "pycharm": {
     "is_executing": false
    }
   },
   "outputs": [
    {
     "data": {
      "text/html": "<div>\n<style scoped>\n    .dataframe tbody tr th:only-of-type {\n        vertical-align: middle;\n    }\n\n    .dataframe tbody tr th {\n        vertical-align: top;\n    }\n\n    .dataframe thead th {\n        text-align: right;\n    }\n</style>\n<table border=\"1\" class=\"dataframe\">\n  <thead>\n    <tr style=\"text-align: right;\">\n      <th></th>\n      <th>Province/State</th>\n      <th>Country/Region</th>\n      <th>Lat</th>\n      <th>Long</th>\n      <th>1/22/20</th>\n      <th>1/23/20</th>\n      <th>1/24/20</th>\n      <th>1/25/20</th>\n      <th>1/26/20</th>\n      <th>1/27/20</th>\n      <th>...</th>\n      <th>3/8/20</th>\n      <th>3/9/20</th>\n      <th>3/10/20</th>\n      <th>3/11/20</th>\n      <th>3/12/20</th>\n      <th>3/13/20</th>\n      <th>3/14/20</th>\n      <th>3/15/20</th>\n      <th>3/16/20</th>\n      <th>3/17/20</th>\n    </tr>\n  </thead>\n  <tbody>\n    <tr>\n      <th>0</th>\n      <td>NaN</td>\n      <td>Thailand</td>\n      <td>15.0000</td>\n      <td>101.0000</td>\n      <td>0</td>\n      <td>0</td>\n      <td>0</td>\n      <td>0</td>\n      <td>0</td>\n      <td>0</td>\n      <td>...</td>\n      <td>1</td>\n      <td>1</td>\n      <td>1</td>\n      <td>1</td>\n      <td>1</td>\n      <td>1</td>\n      <td>1</td>\n      <td>1</td>\n      <td>1</td>\n      <td>1</td>\n    </tr>\n    <tr>\n      <th>1</th>\n      <td>NaN</td>\n      <td>Japan</td>\n      <td>36.0000</td>\n      <td>138.0000</td>\n      <td>0</td>\n      <td>0</td>\n      <td>0</td>\n      <td>0</td>\n      <td>0</td>\n      <td>0</td>\n      <td>...</td>\n      <td>6</td>\n      <td>10</td>\n      <td>10</td>\n      <td>15</td>\n      <td>16</td>\n      <td>19</td>\n      <td>22</td>\n      <td>22</td>\n      <td>27</td>\n      <td>29</td>\n    </tr>\n    <tr>\n      <th>2</th>\n      <td>NaN</td>\n      <td>Singapore</td>\n      <td>1.2833</td>\n      <td>103.8333</td>\n      <td>0</td>\n      <td>0</td>\n      <td>0</td>\n      <td>0</td>\n      <td>0</td>\n      <td>0</td>\n      <td>...</td>\n      <td>0</td>\n      <td>0</td>\n      <td>0</td>\n      <td>0</td>\n      <td>0</td>\n      <td>0</td>\n      <td>0</td>\n      <td>0</td>\n      <td>0</td>\n      <td>0</td>\n    </tr>\n    <tr>\n      <th>3</th>\n      <td>NaN</td>\n      <td>Nepal</td>\n      <td>28.1667</td>\n      <td>84.2500</td>\n      <td>0</td>\n      <td>0</td>\n      <td>0</td>\n      <td>0</td>\n      <td>0</td>\n      <td>0</td>\n      <td>...</td>\n      <td>0</td>\n      <td>0</td>\n      <td>0</td>\n      <td>0</td>\n      <td>0</td>\n      <td>0</td>\n      <td>0</td>\n      <td>0</td>\n      <td>0</td>\n      <td>0</td>\n    </tr>\n    <tr>\n      <th>4</th>\n      <td>NaN</td>\n      <td>Malaysia</td>\n      <td>2.5000</td>\n      <td>112.5000</td>\n      <td>0</td>\n      <td>0</td>\n      <td>0</td>\n      <td>0</td>\n      <td>0</td>\n      <td>0</td>\n      <td>...</td>\n      <td>0</td>\n      <td>0</td>\n      <td>0</td>\n      <td>0</td>\n      <td>0</td>\n      <td>0</td>\n      <td>0</td>\n      <td>0</td>\n      <td>0</td>\n      <td>2</td>\n    </tr>\n  </tbody>\n</table>\n<p>5 rows × 60 columns</p>\n</div>",
      "text/plain": "  Province/State Country/Region      Lat      Long  1/22/20  1/23/20  1/24/20  \\\n0            NaN       Thailand  15.0000  101.0000        0        0        0   \n1            NaN          Japan  36.0000  138.0000        0        0        0   \n2            NaN      Singapore   1.2833  103.8333        0        0        0   \n3            NaN          Nepal  28.1667   84.2500        0        0        0   \n4            NaN       Malaysia   2.5000  112.5000        0        0        0   \n\n   1/25/20  1/26/20  1/27/20  ...  3/8/20  3/9/20  3/10/20  3/11/20  3/12/20  \\\n0        0        0        0  ...       1       1        1        1        1   \n1        0        0        0  ...       6      10       10       15       16   \n2        0        0        0  ...       0       0        0        0        0   \n3        0        0        0  ...       0       0        0        0        0   \n4        0        0        0  ...       0       0        0        0        0   \n\n   3/13/20  3/14/20  3/15/20  3/16/20  3/17/20  \n0        1        1        1        1        1  \n1       19       22       22       27       29  \n2        0        0        0        0        0  \n3        0        0        0        0        0  \n4        0        0        0        0        2  \n\n[5 rows x 60 columns]"
     },
     "execution_count": 4,
     "metadata": {},
     "output_type": "execute_result"
    }
   ],
   "source": [
    "deaths.head()"
   ]
  },
  {
   "cell_type": "code",
   "execution_count": 4,
   "metadata": {
    "pycharm": {
     "is_executing": false
    }
   },
   "outputs": [
    {
     "data": {
      "text/plain": "  Province/State Country/Region      Lat      Long  1/22/20  1/23/20  1/24/20  \\\n0            NaN       Thailand  15.0000  101.0000        0        0        0   \n1            NaN          Japan  36.0000  138.0000        0        0        0   \n2            NaN      Singapore   1.2833  103.8333        0        0        0   \n3            NaN          Nepal  28.1667   84.2500        0        0        0   \n4            NaN       Malaysia   2.5000  112.5000        0        0        0   \n\n   1/25/20  1/26/20  1/27/20  ...  3/9/20  3/10/20  3/11/20  3/12/20  3/13/20  \\\n0        0        2        2  ...      31       33       34       34       35   \n1        0        1        1  ...      76      101      118      118      118   \n2        0        0        0  ...      78       78       96       96       97   \n3        0        0        0  ...       1        1        1        1        1   \n4        0        0        0  ...      24       24       26       26       26   \n\n   3/14/20  3/15/20  3/16/20  3/17/20  3/18/20  \n0       35       35       35       41       42  \n1      118      118      144      144      144  \n2      105      105      109      114      114  \n3        1        1        1        1        1  \n4       35       42       42       49       60  \n\n[5 rows x 61 columns]",
      "text/html": "<div>\n<style scoped>\n    .dataframe tbody tr th:only-of-type {\n        vertical-align: middle;\n    }\n\n    .dataframe tbody tr th {\n        vertical-align: top;\n    }\n\n    .dataframe thead th {\n        text-align: right;\n    }\n</style>\n<table border=\"1\" class=\"dataframe\">\n  <thead>\n    <tr style=\"text-align: right;\">\n      <th></th>\n      <th>Province/State</th>\n      <th>Country/Region</th>\n      <th>Lat</th>\n      <th>Long</th>\n      <th>1/22/20</th>\n      <th>1/23/20</th>\n      <th>1/24/20</th>\n      <th>1/25/20</th>\n      <th>1/26/20</th>\n      <th>1/27/20</th>\n      <th>...</th>\n      <th>3/9/20</th>\n      <th>3/10/20</th>\n      <th>3/11/20</th>\n      <th>3/12/20</th>\n      <th>3/13/20</th>\n      <th>3/14/20</th>\n      <th>3/15/20</th>\n      <th>3/16/20</th>\n      <th>3/17/20</th>\n      <th>3/18/20</th>\n    </tr>\n  </thead>\n  <tbody>\n    <tr>\n      <th>0</th>\n      <td>NaN</td>\n      <td>Thailand</td>\n      <td>15.0000</td>\n      <td>101.0000</td>\n      <td>0</td>\n      <td>0</td>\n      <td>0</td>\n      <td>0</td>\n      <td>2</td>\n      <td>2</td>\n      <td>...</td>\n      <td>31</td>\n      <td>33</td>\n      <td>34</td>\n      <td>34</td>\n      <td>35</td>\n      <td>35</td>\n      <td>35</td>\n      <td>35</td>\n      <td>41</td>\n      <td>42</td>\n    </tr>\n    <tr>\n      <th>1</th>\n      <td>NaN</td>\n      <td>Japan</td>\n      <td>36.0000</td>\n      <td>138.0000</td>\n      <td>0</td>\n      <td>0</td>\n      <td>0</td>\n      <td>0</td>\n      <td>1</td>\n      <td>1</td>\n      <td>...</td>\n      <td>76</td>\n      <td>101</td>\n      <td>118</td>\n      <td>118</td>\n      <td>118</td>\n      <td>118</td>\n      <td>118</td>\n      <td>144</td>\n      <td>144</td>\n      <td>144</td>\n    </tr>\n    <tr>\n      <th>2</th>\n      <td>NaN</td>\n      <td>Singapore</td>\n      <td>1.2833</td>\n      <td>103.8333</td>\n      <td>0</td>\n      <td>0</td>\n      <td>0</td>\n      <td>0</td>\n      <td>0</td>\n      <td>0</td>\n      <td>...</td>\n      <td>78</td>\n      <td>78</td>\n      <td>96</td>\n      <td>96</td>\n      <td>97</td>\n      <td>105</td>\n      <td>105</td>\n      <td>109</td>\n      <td>114</td>\n      <td>114</td>\n    </tr>\n    <tr>\n      <th>3</th>\n      <td>NaN</td>\n      <td>Nepal</td>\n      <td>28.1667</td>\n      <td>84.2500</td>\n      <td>0</td>\n      <td>0</td>\n      <td>0</td>\n      <td>0</td>\n      <td>0</td>\n      <td>0</td>\n      <td>...</td>\n      <td>1</td>\n      <td>1</td>\n      <td>1</td>\n      <td>1</td>\n      <td>1</td>\n      <td>1</td>\n      <td>1</td>\n      <td>1</td>\n      <td>1</td>\n      <td>1</td>\n    </tr>\n    <tr>\n      <th>4</th>\n      <td>NaN</td>\n      <td>Malaysia</td>\n      <td>2.5000</td>\n      <td>112.5000</td>\n      <td>0</td>\n      <td>0</td>\n      <td>0</td>\n      <td>0</td>\n      <td>0</td>\n      <td>0</td>\n      <td>...</td>\n      <td>24</td>\n      <td>24</td>\n      <td>26</td>\n      <td>26</td>\n      <td>26</td>\n      <td>35</td>\n      <td>42</td>\n      <td>42</td>\n      <td>49</td>\n      <td>60</td>\n    </tr>\n  </tbody>\n</table>\n<p>5 rows × 61 columns</p>\n</div>"
     },
     "metadata": {},
     "output_type": "execute_result",
     "execution_count": 4
    }
   ],
   "source": [
    "recovered.head()"
   ]
  },
  {
   "cell_type": "code",
   "execution_count": 5,
   "metadata": {
    "pycharm": {
     "is_executing": false
    }
   },
   "outputs": [
    {
     "data": {
      "text/plain": "array(['Thailand', 'Japan', 'Singapore', 'Nepal', 'Malaysia', 'Canada',\n       'Australia', 'Cambodia', 'Sri Lanka', 'Germany', 'Finland',\n       'United Arab Emirates', 'Philippines', 'India', 'Italy', 'Sweden',\n       'Spain', 'Belgium', 'Egypt', 'Lebanon', 'Iraq', 'Oman',\n       'Afghanistan', 'Bahrain', 'Kuwait', 'Algeria', 'Croatia',\n       'Switzerland', 'Austria', 'Israel', 'Pakistan', 'Brazil',\n       'Georgia', 'Greece', 'North Macedonia', 'Norway', 'Romania',\n       'Estonia', 'San Marino', 'Belarus', 'Iceland', 'Lithuania',\n       'Mexico', 'New Zealand', 'Nigeria', 'Ireland', 'Luxembourg',\n       'Monaco', 'Qatar', 'Ecuador', 'Azerbaijan', 'Armenia',\n       'Dominican Republic', 'Indonesia', 'Portugal', 'Andorra', 'Latvia',\n       'Morocco', 'Saudi Arabia', 'Senegal', 'Argentina', 'Chile',\n       'Jordan', 'Ukraine', 'Hungary', 'Liechtenstein', 'Poland',\n       'Tunisia', 'Bosnia and Herzegovina', 'Slovenia', 'South Africa',\n       'Bhutan', 'Cameroon', 'Colombia', 'Costa Rica', 'Peru', 'Serbia',\n       'Slovakia', 'Togo', 'Malta', 'Martinique', 'Bulgaria', 'Maldives',\n       'Bangladesh', 'Paraguay', 'Albania', 'Cyprus', 'Brunei', 'US',\n       'Burkina Faso', 'Holy See', 'Mongolia', 'Panama', 'China', 'Iran',\n       'Korea, South', 'France', 'Cruise Ship', 'Denmark', 'Czechia',\n       'Taiwan*', 'Vietnam', 'Russia', 'Moldova', 'Bolivia', 'Honduras',\n       'United Kingdom', 'Congo (Kinshasa)', \"Cote d'Ivoire\", 'Jamaica',\n       'Turkey', 'Cuba', 'Guyana', 'Kazakhstan', 'Ethiopia', 'Sudan',\n       'Guinea', 'Kenya', 'Antigua and Barbuda', 'Uruguay', 'Ghana',\n       'Namibia', 'Seychelles', 'Trinidad and Tobago', 'Venezuela',\n       'Eswatini', 'Gabon', 'Guatemala', 'Mauritania', 'Rwanda',\n       'Saint Lucia', 'Saint Vincent and the Grenadines', 'Suriname',\n       'Kosovo', 'Central African Republic', 'Congo (Brazzaville)',\n       'Equatorial Guinea', 'Uzbekistan', 'Netherlands', 'Benin',\n       'Greenland', 'Liberia', 'Somalia', 'Tanzania', 'The Bahamas',\n       'Barbados', 'Montenegro', 'Kyrgyzstan', 'Mauritius', 'Zambia',\n       'Djibouti', 'Gambia, The'], dtype=object)"
     },
     "metadata": {},
     "output_type": "execute_result",
     "execution_count": 5
    }
   ],
   "source": [
    "confirmed[\"Country/Region\"].unique()"
   ]
  },
  {
   "cell_type": "code",
   "execution_count": 7,
   "metadata": {
    "pycharm": {
     "is_executing": false
    }
   },
   "outputs": [],
   "source": [
    "# create a time series data\n",
    "def prepare_data(case):\n",
    "    \"\"\"\n",
    "    case:\n",
    "        pandas data frame for either confirmed/deaths/recovered\n",
    "    \"\"\"\n",
    "    # select only the columns with time\n",
    "    case_T = case[case.columns[-54:]].T \n",
    "\n",
    "     # set columns names to Country/Region\n",
    "    case_T.columns = case[\"Country/Region\"]\n",
    "\n",
    "    # transform index to datetime\n",
    "    case_T.index = pd.to_datetime(case_T.index) \n",
    "\n",
    "    # sum data of regions in the same country\n",
    "    regions_count = pd.value_counts(confirmed[\"Country/Region\"]).reset_index()\n",
    "    regions_count.columns = [\"Country/Region\",\"Counts\"]\n",
    "    to_drop = list(regions_count[regions_count[\"Counts\"]>1][\"Country/Region\"].values)\n",
    "    case_T_copy = case_T.copy()\n",
    "    case_T_copy = case_T_copy.drop(to_drop, axis=1)\n",
    "    for i in to_drop:\n",
    "        case_T_copy[i] = case_T[i].sum(axis=1)\n",
    "    \n",
    "    return case_T_copy"
   ]
  },
  {
   "cell_type": "code",
   "execution_count": 9,
   "metadata": {
    "pycharm": {
     "is_executing": false
    }
   },
   "outputs": [],
   "source": [
    "confirmed_prepared = prepare_data(confirmed)\n",
    "deaths_prepared = prepare_data(deaths)\n",
    "recovered_prepared = prepare_data(recovered)"
   ]
  },
  {
   "cell_type": "code",
   "execution_count": 25,
   "outputs": [
    {
     "data": {
      "text/plain": "Country/Region  Thailand  Japan  Singapore  Nepal  Malaysia  Cambodia  \\\n2020-03-18           212    889        313      1       790        35   \n\nCountry/Region  Sri Lanka  Germany  Finland  United Arab Emirates  ...  \\\n2020-03-18             51    12327      336                   113  ...   \n\nCountry/Region  Djibouti  Gambia, The    US  China  Canada  Australia  France  \\\n2020-03-18             1            1  7783  81102     657        568    9105   \n\nCountry/Region  United Kingdom  Netherlands  Denmark  \n2020-03-18                2642         2058     1115  \n\n[1 rows x 152 columns]",
      "text/html": "<div>\n<style scoped>\n    .dataframe tbody tr th:only-of-type {\n        vertical-align: middle;\n    }\n\n    .dataframe tbody tr th {\n        vertical-align: top;\n    }\n\n    .dataframe thead th {\n        text-align: right;\n    }\n</style>\n<table border=\"1\" class=\"dataframe\">\n  <thead>\n    <tr style=\"text-align: right;\">\n      <th>Country/Region</th>\n      <th>Thailand</th>\n      <th>Japan</th>\n      <th>Singapore</th>\n      <th>Nepal</th>\n      <th>Malaysia</th>\n      <th>Cambodia</th>\n      <th>Sri Lanka</th>\n      <th>Germany</th>\n      <th>Finland</th>\n      <th>United Arab Emirates</th>\n      <th>...</th>\n      <th>Djibouti</th>\n      <th>Gambia, The</th>\n      <th>US</th>\n      <th>China</th>\n      <th>Canada</th>\n      <th>Australia</th>\n      <th>France</th>\n      <th>United Kingdom</th>\n      <th>Netherlands</th>\n      <th>Denmark</th>\n    </tr>\n  </thead>\n  <tbody>\n    <tr>\n      <th>2020-03-18</th>\n      <td>212</td>\n      <td>889</td>\n      <td>313</td>\n      <td>1</td>\n      <td>790</td>\n      <td>35</td>\n      <td>51</td>\n      <td>12327</td>\n      <td>336</td>\n      <td>113</td>\n      <td>...</td>\n      <td>1</td>\n      <td>1</td>\n      <td>7783</td>\n      <td>81102</td>\n      <td>657</td>\n      <td>568</td>\n      <td>9105</td>\n      <td>2642</td>\n      <td>2058</td>\n      <td>1115</td>\n    </tr>\n  </tbody>\n</table>\n<p>1 rows × 152 columns</p>\n</div>"
     },
     "metadata": {},
     "output_type": "execute_result",
     "execution_count": 25
    }
   ],
   "source": [
    "confirmed_prepared.tail(1)"
   ],
   "metadata": {
    "collapsed": false,
    "pycharm": {
     "name": "#%%\n",
     "is_executing": false
    }
   }
  },
  {
   "cell_type": "code",
   "execution_count": 32,
   "outputs": [
    {
     "name": "stdout",
     "text": [
      "214910\n",
      "2020-03-18    8733\n",
      "dtype: int64\n",
      "2020-03-18    83207\n",
      "dtype: int64\n"
     ],
     "output_type": "stream"
    },
    {
     "data": {
      "text/plain": "(None, None, None)"
     },
     "metadata": {},
     "output_type": "execute_result",
     "execution_count": 32
    }
   ],
   "source": [
    "sum_confirmed  = confirmed_prepared.tail(1).sum(axis=1)\n",
    "sum_deaths  = deaths_prepared.tail(1).sum(axis=1)\n",
    "sum_recovered  = recovered_prepared.tail(1).sum(axis=1)\n",
    "print(sum_confirmed[0]), print(sum_deaths), print(sum_recovered)"
   ],
   "metadata": {
    "collapsed": false,
    "pycharm": {
     "name": "#%%\n",
     "is_executing": false
    }
   }
  },
  {
   "cell_type": "code",
   "execution_count": 9,
   "metadata": {
    "pycharm": {
     "is_executing": false
    }
   },
   "outputs": [],
   "source": [
    "#  filter data by country\n",
    "def filter_by_country(country):\n",
    "    country_all  = pd.DataFrame(\n",
    "        data=\n",
    "            confirmed_prepared[country].values,\n",
    "        columns = [\n",
    "            \"Confirmed\",\n",
    "        ],\n",
    "        index=confirmed_prepared.index\n",
    "    )\n",
    "\n",
    "    country_all[\"Deaths\"] = deaths_prepared[country].values\n",
    "    country_all[\"Recovered\"] = recovered_prepared[country].values\n",
    "    country_all.index = pd.to_datetime(country_all.index)\n",
    "\n",
    "    return country_all"
   ]
  },
  {
   "cell_type": "code",
   "execution_count": 10,
   "metadata": {
    "pycharm": {
     "is_executing": false
    }
   },
   "outputs": [],
   "source": [
    "# plotting a trend of cases\n",
    "def plot_cases(country):\n",
    "    country_cases = filter_by_country(country)\n",
    "\n",
    "    # number of cases\n",
    "    confirmed = country_cases[\"Confirmed\"].values[-1]\n",
    "    deaths = country_cases[\"Deaths\"].values[-1]\n",
    "    recovered = country_cases[\"Recovered\"].values[-1]\n",
    "    print(\"Confirmed: \", confirmed)\n",
    "    print(\"Deaths: \", deaths)\n",
    "    print(\"Recovered: \", recovered)\n",
    "    print(\"Death Rate: {}\".format(np.round((deaths/confirmed)*100, 1)))\n",
    "    print(\"Recovery Rate: {}\".format(np.round((recovered/confirmed)*100, 1)))\n",
    "    country_cases.plot(\n",
    "        title=\"Covid-19 Cases for {}\".format(country),\n",
    "        )\n",
    "    plt.ylabel(\"# of cases\")\n",
    "    plt.show()\n",
    "    return "
   ]
  },
  {
   "cell_type": "code",
   "execution_count": 12,
   "metadata": {
    "pycharm": {
     "is_executing": false
    }
   },
   "outputs": [
    {
     "name": "stdout",
     "output_type": "stream",
     "text": [
      "Confirmed:  24\n",
      "Deaths:  0\n",
      "Recovered:  0\n",
      "Death Rate: 0.0\n",
      "Recovery Rate: 0.0\n"
     ]
    },
    {
     "data": {
      "image/png": "[encoded data removed]",
      "text/plain": "<Figure size 432x288 with 1 Axes>"
     },
     "metadata": {},
     "output_type": "display_data"
    }
   ],
   "source": [
    "plot_cases(\"Tunisia\")"
   ]
  },
  {
   "cell_type": "code",
   "execution_count": 13,
   "metadata": {
    "pycharm": {
     "is_executing": false,
     "name": "#%%\n"
    }
   },
   "outputs": [
    {
     "name": "stdout",
     "output_type": "stream",
     "text": [
      "Confirmed:  6421\n",
      "Deaths:  108\n",
      "Recovered:  17\n",
      "Death Rate: 1.7\n",
      "Recovery Rate: 0.3\n"
     ]
    },
    {
     "data": {
      "image/png": "[encoded data removed]",
      "text/plain": "<Figure size 432x288 with 1 Axes>"
     },
     "metadata": {},
     "output_type": "display_data"
    }
   ],
   "source": [
    "plot_cases(\"US\")\n"
   ]
  }
 ]
}